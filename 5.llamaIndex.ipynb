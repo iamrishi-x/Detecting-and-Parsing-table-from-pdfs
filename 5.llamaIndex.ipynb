{
 "cells": [
  {
   "cell_type": "code",
   "execution_count": 2,
   "metadata": {},
   "outputs": [],
   "source": [
    "import nest_asyncio\n",
    "from llama_index.core import SimpleDirectoryReader\n",
    "from llama_parse import LlamaParse\n",
    "import os\n",
    "from dotenv import load_dotenv\n",
    "nest_asyncio.apply()"
   ]
  },
  {
   "cell_type": "code",
   "execution_count": 3,
   "metadata": {},
   "outputs": [],
   "source": [
    "load_dotenv()\n",
    "parser = LlamaParse(\n",
    "    api_key=os.getenv(\"cloud_api_key\"),  # Replace with your LlamaParse API key\n",
    "    result_type=\"markdown\",  # We want markdown output\n",
    "    num_workers=4,  # Number of workers for parallel processing of multiple files\n",
    "    verbose=True,  # Enables logging of detailed information\n",
    "    language=\"en\",  # Language of the document (optional)\n",
    ")"
   ]
  },
  {
   "cell_type": "code",
   "execution_count": 4,
   "metadata": {},
   "outputs": [],
   "source": [
    "file_directory = \"/Users/user/Documents/Project/___e-zest___/Detecting-and-Parsing-table-from-pdfs/img_data/pdf_out/\"\n",
    "file_list = [[f for f in os.listdir(file_directory) if f.lower().endswith(('.pdf', '.png', '.jpg', '.jpeg'))][0]]\n",
    "file_list = ['page2.jpg']\n"
   ]
  },
  {
   "cell_type": "code",
   "execution_count": 5,
   "metadata": {},
   "outputs": [
    {
     "name": "stdout",
     "output_type": "stream",
     "text": [
      "Started parsing the file under job_id 92b66156-746b-4676-aaa8-632a55b73862\n",
      "Markdown for page2.jpg:\n",
      "[Document(id_='76b7e3eb-ac33-4a65-b7a5-6732c538b306', embedding=None, metadata={'file_name': 'page2.jpg'}, excluded_embed_metadata_keys=[], excluded_llm_metadata_keys=[], relationships={}, metadata_template='{key}: {value}', metadata_separator='\\n', text='# Part C\\n\\n# Part C OTC\\n\\n|Monthly Frequency|Part C OTC Comments|\\n|---|---|\\n|OTC Not Administered by Navitus|Geisinger Administered QTC Benefit|\\n\\n# Part D\\n\\n|Plan Type|Defined Standard Benefit Plan|\\n|---|---|\\n|Formulary ID:|00024417|\\n|Formulary|Lower Level Exception Tier|\\n|NIA|Formulary NIA|\\n\\n# Supply Limit\\n\\n|One Month Supply Limit Day|OON|Mail Order|\\n|---|---|---|\\n|30|30|100|\\n\\n# Over-The-Counter (OTC)\\n\\n|Items as a supplemental benefit under Part D|No|(OON) Claims processing|\\n|---|---|---|\\n|Manual| | |\\n\\n# Methodology\\n\\nDMR\\nContracted\\nOOP\\nRecoupment\\nS25\\n# Part D Copays\\n\\n|In Network|Mail|OON|LTC|\\n|---|---|---|---|\\n|Insulin Day|Day|Day|Day|\\n|1-30|31-60|61-100|1-30|\\n|$ 35.00|$ 70.00|$ 87.50|$ 35.00|\\n|31-60|61-100|30|31|\\n|$ 52.50|$ 52.50|$ 35.00|$ 35.00|\\n\\n# DAW Processing Requirements\\n\\nStandard DAW 0,1,2,5,8 and 9 will process at POS. DAW 3,4,6 and will reject at POS with error 22 (WI DAJ product selection code).\\n\\nDAW 0,1,2,5,8 and 9 will process at POS. Claim does not reject with NCPDP 22 and processes with the following:\\n\\n- Generic Reimbursement (Lesser of Logic applies)\\n- Copay (DAW Copay Rule C - Patient Pays Copay)\\n\\nThe copay is based on the Tier regardless of the DAW submitted:\\n\\n- Generic Available MONY code \"Y\"\\n- MONY \\'MIN\" should always process as a brand, \"0\" should process as \"Multi Source Brand Drugs\"\\n\\n# Generic Dispense Fee\\n\\nDAW 3,4,6,7 will process at POS. Claim denies with NCPDP 22.\\n\\nClaim does not reject with NCPDP 22 and processes with the following:\\n\\n- Brand Reimbursement (Lesser of Logic applies)\\n- The copay is based on the Tier regardless of the DAW submitted\\n\\n# Multi-Source Brand Drugs\\n\\nGeneric available MONY code \"Y\". MONY \"MIN\" should always process as a brand, \"Y\" should process as a generic; \"0\" should process as \"Multi Source Brand Drugs\".\\n\\n# Brand Dispense Fee\\n\\nDAW 3,4,6,7 will process at POS. Claim denies with NCPDP 22.\\n\\n# Single-Source Brand Drugs\\n\\nBrand Reimbursement (Lesser of Logic applies) Pays Copay. Copay (DAW Copay Rule C - Patient Pays Copay).', mimetype='text/plain', start_char_idx=None, end_char_idx=None, metadata_seperator='\\n', text_template='{metadata_str}\\n\\n{content}')]\n"
     ]
    }
   ],
   "source": [
    "for file_name in file_list:\n",
    "    file_path = os.path.join(file_directory, file_name)\n",
    "    \n",
    "    with open(file_path, \"rb\") as file:\n",
    "        documents = parser.load_data(file, extra_info={\"file_name\": file_name})\n",
    "    if documents:\n",
    "        print(f\"Markdown for {file_name}:\")\n",
    "        print(documents)  \n",
    "    else:\n",
    "        print(f\"No data parsed for {file_name}\")\n"
   ]
  },
  {
   "cell_type": "code",
   "execution_count": 7,
   "metadata": {},
   "outputs": [
    {
     "data": {
      "text/plain": [
       "'# Part C\\n\\n# Part C OTC\\n\\n|Monthly Frequency|Part C OTC Comments|\\n|---|---|\\n|OTC Not Administered by Navitus|Geisinger Administered QTC Benefit|\\n\\n# Part D\\n\\n|Plan Type|Defined Standard Benefit Plan|\\n|---|---|\\n|Formulary ID:|00024417|\\n|Formulary|Lower Level Exception Tier|\\n|NIA|Formulary NIA|\\n\\n# Supply Limit\\n\\n|One Month Supply Limit Day|OON|Mail Order|\\n|---|---|---|\\n|30|30|100|\\n\\n# Over-The-Counter (OTC)\\n\\n|Items as a supplemental benefit under Part D|No|(OON) Claims processing|\\n|---|---|---|\\n|Manual| | |\\n\\n# Methodology\\n\\nDMR\\nContracted\\nOOP\\nRecoupment\\nS25\\n# Part D Copays\\n\\n|In Network|Mail|OON|LTC|\\n|---|---|---|---|\\n|Insulin Day|Day|Day|Day|\\n|1-30|31-60|61-100|1-30|\\n|$ 35.00|$ 70.00|$ 87.50|$ 35.00|\\n|31-60|61-100|30|31|\\n|$ 52.50|$ 52.50|$ 35.00|$ 35.00|\\n\\n# DAW Processing Requirements\\n\\nStandard DAW 0,1,2,5,8 and 9 will process at POS. DAW 3,4,6 and will reject at POS with error 22 (WI DAJ product selection code).\\n\\nDAW 0,1,2,5,8 and 9 will process at POS. Claim does not reject with NCPDP 22 and processes with the following:\\n\\n- Generic Reimbursement (Lesser of Logic applies)\\n- Copay (DAW Copay Rule C - Patient Pays Copay)\\n\\nThe copay is based on the Tier regardless of the DAW submitted:\\n\\n- Generic Available MONY code \"Y\"\\n- MONY \\'MIN\" should always process as a brand, \"0\" should process as \"Multi Source Brand Drugs\"\\n\\n# Generic Dispense Fee\\n\\nDAW 3,4,6,7 will process at POS. Claim denies with NCPDP 22.\\n\\nClaim does not reject with NCPDP 22 and processes with the following:\\n\\n- Brand Reimbursement (Lesser of Logic applies)\\n- The copay is based on the Tier regardless of the DAW submitted\\n\\n# Multi-Source Brand Drugs\\n\\nGeneric available MONY code \"Y\". MONY \"MIN\" should always process as a brand, \"Y\" should process as a generic; \"0\" should process as \"Multi Source Brand Drugs\".\\n\\n# Brand Dispense Fee\\n\\nDAW 3,4,6,7 will process at POS. Claim denies with NCPDP 22.\\n\\n# Single-Source Brand Drugs\\n\\nBrand Reimbursement (Lesser of Logic applies) Pays Copay. Copay (DAW Copay Rule C - Patient Pays Copay).'"
      ]
     },
     "execution_count": 7,
     "metadata": {},
     "output_type": "execute_result"
    }
   ],
   "source": [
    "markdown_data = documents[0].text\n",
    "markdown_data"
   ]
  },
  {
   "cell_type": "code",
   "execution_count": 8,
   "metadata": {},
   "outputs": [
    {
     "ename": "ParserError",
     "evalue": "Error tokenizing data. C error: Expected 1 fields in line 5, saw 4\n",
     "output_type": "error",
     "traceback": [
      "\u001b[0;31m---------------------------------------------------------------------------\u001b[0m",
      "\u001b[0;31mParserError\u001b[0m                               Traceback (most recent call last)",
      "Cell \u001b[0;32mIn[8], line 3\u001b[0m\n\u001b[1;32m      1\u001b[0m \u001b[38;5;28;01mimport\u001b[39;00m \u001b[38;5;21;01mpandas\u001b[39;00m \u001b[38;5;28;01mas\u001b[39;00m \u001b[38;5;21;01mpd\u001b[39;00m\n\u001b[1;32m      2\u001b[0m \u001b[38;5;28;01mimport\u001b[39;00m \u001b[38;5;21;01mio\u001b[39;00m\n\u001b[0;32m----> 3\u001b[0m df \u001b[38;5;241m=\u001b[39m \u001b[43mpd\u001b[49m\u001b[38;5;241;43m.\u001b[39;49m\u001b[43mread_csv\u001b[49m\u001b[43m(\u001b[49m\u001b[43mio\u001b[49m\u001b[38;5;241;43m.\u001b[39;49m\u001b[43mStringIO\u001b[49m\u001b[43m(\u001b[49m\u001b[43mmarkdown_data\u001b[49m\u001b[43m)\u001b[49m\u001b[43m,\u001b[49m\u001b[43m \u001b[49m\u001b[43mdelimiter\u001b[49m\u001b[38;5;241;43m=\u001b[39;49m\u001b[38;5;124;43m\"\u001b[39;49m\u001b[38;5;124;43m|\u001b[39;49m\u001b[38;5;124;43m\"\u001b[39;49m\u001b[43m)\u001b[49m\n\u001b[1;32m      4\u001b[0m df \u001b[38;5;241m=\u001b[39m df\u001b[38;5;241m.\u001b[39miloc[:, \u001b[38;5;241m1\u001b[39m:\u001b[38;5;241m-\u001b[39m\u001b[38;5;241m1\u001b[39m]\n\u001b[1;32m      5\u001b[0m \u001b[38;5;28mprint\u001b[39m(df)\n",
      "File \u001b[0;32m~/Documents/Project/___e-zest___/Detecting-and-Parsing-table-from-pdfs/.venv/lib/python3.12/site-packages/pandas/io/parsers/readers.py:1026\u001b[0m, in \u001b[0;36mread_csv\u001b[0;34m(filepath_or_buffer, sep, delimiter, header, names, index_col, usecols, dtype, engine, converters, true_values, false_values, skipinitialspace, skiprows, skipfooter, nrows, na_values, keep_default_na, na_filter, verbose, skip_blank_lines, parse_dates, infer_datetime_format, keep_date_col, date_parser, date_format, dayfirst, cache_dates, iterator, chunksize, compression, thousands, decimal, lineterminator, quotechar, quoting, doublequote, escapechar, comment, encoding, encoding_errors, dialect, on_bad_lines, delim_whitespace, low_memory, memory_map, float_precision, storage_options, dtype_backend)\u001b[0m\n\u001b[1;32m   1013\u001b[0m kwds_defaults \u001b[38;5;241m=\u001b[39m _refine_defaults_read(\n\u001b[1;32m   1014\u001b[0m     dialect,\n\u001b[1;32m   1015\u001b[0m     delimiter,\n\u001b[0;32m   (...)\u001b[0m\n\u001b[1;32m   1022\u001b[0m     dtype_backend\u001b[38;5;241m=\u001b[39mdtype_backend,\n\u001b[1;32m   1023\u001b[0m )\n\u001b[1;32m   1024\u001b[0m kwds\u001b[38;5;241m.\u001b[39mupdate(kwds_defaults)\n\u001b[0;32m-> 1026\u001b[0m \u001b[38;5;28;01mreturn\u001b[39;00m \u001b[43m_read\u001b[49m\u001b[43m(\u001b[49m\u001b[43mfilepath_or_buffer\u001b[49m\u001b[43m,\u001b[49m\u001b[43m \u001b[49m\u001b[43mkwds\u001b[49m\u001b[43m)\u001b[49m\n",
      "File \u001b[0;32m~/Documents/Project/___e-zest___/Detecting-and-Parsing-table-from-pdfs/.venv/lib/python3.12/site-packages/pandas/io/parsers/readers.py:626\u001b[0m, in \u001b[0;36m_read\u001b[0;34m(filepath_or_buffer, kwds)\u001b[0m\n\u001b[1;32m    623\u001b[0m     \u001b[38;5;28;01mreturn\u001b[39;00m parser\n\u001b[1;32m    625\u001b[0m \u001b[38;5;28;01mwith\u001b[39;00m parser:\n\u001b[0;32m--> 626\u001b[0m     \u001b[38;5;28;01mreturn\u001b[39;00m \u001b[43mparser\u001b[49m\u001b[38;5;241;43m.\u001b[39;49m\u001b[43mread\u001b[49m\u001b[43m(\u001b[49m\u001b[43mnrows\u001b[49m\u001b[43m)\u001b[49m\n",
      "File \u001b[0;32m~/Documents/Project/___e-zest___/Detecting-and-Parsing-table-from-pdfs/.venv/lib/python3.12/site-packages/pandas/io/parsers/readers.py:1923\u001b[0m, in \u001b[0;36mTextFileReader.read\u001b[0;34m(self, nrows)\u001b[0m\n\u001b[1;32m   1916\u001b[0m nrows \u001b[38;5;241m=\u001b[39m validate_integer(\u001b[38;5;124m\"\u001b[39m\u001b[38;5;124mnrows\u001b[39m\u001b[38;5;124m\"\u001b[39m, nrows)\n\u001b[1;32m   1917\u001b[0m \u001b[38;5;28;01mtry\u001b[39;00m:\n\u001b[1;32m   1918\u001b[0m     \u001b[38;5;66;03m# error: \"ParserBase\" has no attribute \"read\"\u001b[39;00m\n\u001b[1;32m   1919\u001b[0m     (\n\u001b[1;32m   1920\u001b[0m         index,\n\u001b[1;32m   1921\u001b[0m         columns,\n\u001b[1;32m   1922\u001b[0m         col_dict,\n\u001b[0;32m-> 1923\u001b[0m     ) \u001b[38;5;241m=\u001b[39m \u001b[38;5;28;43mself\u001b[39;49m\u001b[38;5;241;43m.\u001b[39;49m\u001b[43m_engine\u001b[49m\u001b[38;5;241;43m.\u001b[39;49m\u001b[43mread\u001b[49m\u001b[43m(\u001b[49m\u001b[43m  \u001b[49m\u001b[38;5;66;43;03m# type: ignore[attr-defined]\u001b[39;49;00m\n\u001b[1;32m   1924\u001b[0m \u001b[43m        \u001b[49m\u001b[43mnrows\u001b[49m\n\u001b[1;32m   1925\u001b[0m \u001b[43m    \u001b[49m\u001b[43m)\u001b[49m\n\u001b[1;32m   1926\u001b[0m \u001b[38;5;28;01mexcept\u001b[39;00m \u001b[38;5;167;01mException\u001b[39;00m:\n\u001b[1;32m   1927\u001b[0m     \u001b[38;5;28mself\u001b[39m\u001b[38;5;241m.\u001b[39mclose()\n",
      "File \u001b[0;32m~/Documents/Project/___e-zest___/Detecting-and-Parsing-table-from-pdfs/.venv/lib/python3.12/site-packages/pandas/io/parsers/c_parser_wrapper.py:234\u001b[0m, in \u001b[0;36mCParserWrapper.read\u001b[0;34m(self, nrows)\u001b[0m\n\u001b[1;32m    232\u001b[0m \u001b[38;5;28;01mtry\u001b[39;00m:\n\u001b[1;32m    233\u001b[0m     \u001b[38;5;28;01mif\u001b[39;00m \u001b[38;5;28mself\u001b[39m\u001b[38;5;241m.\u001b[39mlow_memory:\n\u001b[0;32m--> 234\u001b[0m         chunks \u001b[38;5;241m=\u001b[39m \u001b[38;5;28;43mself\u001b[39;49m\u001b[38;5;241;43m.\u001b[39;49m\u001b[43m_reader\u001b[49m\u001b[38;5;241;43m.\u001b[39;49m\u001b[43mread_low_memory\u001b[49m\u001b[43m(\u001b[49m\u001b[43mnrows\u001b[49m\u001b[43m)\u001b[49m\n\u001b[1;32m    235\u001b[0m         \u001b[38;5;66;03m# destructive to chunks\u001b[39;00m\n\u001b[1;32m    236\u001b[0m         data \u001b[38;5;241m=\u001b[39m _concatenate_chunks(chunks)\n",
      "File \u001b[0;32mparsers.pyx:838\u001b[0m, in \u001b[0;36mpandas._libs.parsers.TextReader.read_low_memory\u001b[0;34m()\u001b[0m\n",
      "File \u001b[0;32mparsers.pyx:905\u001b[0m, in \u001b[0;36mpandas._libs.parsers.TextReader._read_rows\u001b[0;34m()\u001b[0m\n",
      "File \u001b[0;32mparsers.pyx:874\u001b[0m, in \u001b[0;36mpandas._libs.parsers.TextReader._tokenize_rows\u001b[0;34m()\u001b[0m\n",
      "File \u001b[0;32mparsers.pyx:891\u001b[0m, in \u001b[0;36mpandas._libs.parsers.TextReader._check_tokenize_status\u001b[0;34m()\u001b[0m\n",
      "File \u001b[0;32mparsers.pyx:2061\u001b[0m, in \u001b[0;36mpandas._libs.parsers.raise_parser_error\u001b[0;34m()\u001b[0m\n",
      "\u001b[0;31mParserError\u001b[0m: Error tokenizing data. C error: Expected 1 fields in line 5, saw 4\n"
     ]
    }
   ],
   "source": [
    "import pandas as pd\n",
    "import io\n",
    "df = pd.read_csv(io.StringIO(markdown_data), delimiter=\"|\")\n",
    "df = df.iloc[:, 1:-1]\n",
    "print(df)"
   ]
  }
 ],
 "metadata": {
  "kernelspec": {
   "display_name": ".venv",
   "language": "python",
   "name": "python3"
  },
  "language_info": {
   "codemirror_mode": {
    "name": "ipython",
    "version": 3
   },
   "file_extension": ".py",
   "mimetype": "text/x-python",
   "name": "python",
   "nbconvert_exporter": "python",
   "pygments_lexer": "ipython3",
   "version": "3.12.7"
  }
 },
 "nbformat": 4,
 "nbformat_minor": 2
}
