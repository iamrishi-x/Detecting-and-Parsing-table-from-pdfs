{
 "cells": [
  {
   "cell_type": "code",
   "execution_count": 1,
   "metadata": {},
   "outputs": [],
   "source": [
    "import nest_asyncio\n",
    "from llama_index.core import SimpleDirectoryReader\n",
    "from llama_parse import LlamaParse\n",
    "import os\n",
    "from dotenv import load_dotenv\n",
    "nest_asyncio.apply()"
   ]
  },
  {
   "cell_type": "code",
   "execution_count": 2,
   "metadata": {},
   "outputs": [],
   "source": [
    "load_dotenv()\n",
    "parser = LlamaParse(\n",
    "    api_key=os.getenv(\"cloud_api_key\"),  # Replace with your LlamaParse API key\n",
    "    result_type=\"markdown\",  # We want markdown output\n",
    "    num_workers=4,  # Number of workers for parallel processing of multiple files\n",
    "    verbose=True,  # Enables logging of detailed information\n",
    "    language=\"en\",  # Language of the document (optional)\n",
    ")"
   ]
  },
  {
   "cell_type": "code",
   "execution_count": 5,
   "metadata": {},
   "outputs": [],
   "source": [
    "file_directory = \"/Users/user/Documents/Project/___e-zest___/Detecting-and-Parsing-table-from-pdfs/1.using_cv2/out_tables\"\n",
    "file_list = [[f for f in os.listdir(file_directory) if f.lower().endswith(('.pdf', '.png', '.jpg', '.jpeg'))][0]]\n",
    "file_list = ['Table_0.png']\n"
   ]
  },
  {
   "cell_type": "code",
   "execution_count": 6,
   "metadata": {},
   "outputs": [
    {
     "name": "stdout",
     "output_type": "stream",
     "text": [
      "Started parsing the file under job_id 10c45fa4-917c-455d-bd51-84036ff18d4e\n",
      "Markdown for Table_0.png:\n",
      "[Document(id_='baa2a5cb-f169-4802-aaa3-a7d054edcc10', embedding=None, metadata={'file_name': 'Table_0.png'}, excluded_embed_metadata_keys=[], excluded_llm_metadata_keys=[], relationships={}, metadata_template='{key}: {value}', metadata_separator='\\n', text='# Part C\\n\\n# Part C OTC\\n\\n|Monthly Frequency|Part C OTC Comments|\\n|---|---|\\n|OTC Not Administered by Navitus|Geisinger Administered OTC Benefit Part D|\\n|Plan Type|Defined Standard Benefit Plan|\\n|Formulary ID:|00024417|\\n|Formulary|Lower Level Exception Tier|\\n|NIA|Formulary NIA|\\n|One Month Supply Limit|30|\\n|LTC One Month Supply Limit|31|\\n|OON Day Supply|30|\\n|Mail Order Day Supply|100|\\n|Over-The-Counter (OTC) Items as a supplemental benefit under Part D|No|\\n|DMR Methodology|Contracted OOP Threshold|\\n\\n# Part D\\n\\n|Insulin|1-30 Day|31-60 Day|61-100 Day|1-30 Day|31-60 Day|61-100 Day|30 Day|31 Day|\\n|---|---|---|---|---|---|---|---|---|\\n|Copays|$35.00|$70.00|$87.50|$35.00|$52.50|$52.50|$35.00|$35.00|\\n\\n# DAW Processing Requirements\\n\\nStandard DAW 0,1,2,5,8 and 9 will process at POS.\\n\\nDAW 3,4,6 and 7 will reject at POS with error 22 (WI DA product selection code).\\n\\nClaim does not reject with NCPDP 22 and processes with the following:\\n\\n- Generic Reimbursement (Lesser of Logic applies)\\n- Copay (DAW Copay Rule C - Patient Pays Copay)\\n\\nThe copay is based on the Tier regardless of the DAW submitted.\\n\\n# Generic Available\\n\\nGeneric available MONY code \"Y\".\\n\\nMONY \"MN\" should always process as a brand, \"0\" should process as \"Multi Source Brand Drugs\".\\n\\n# Generic Dispense Fee\\n\\nDAW 3,4,6,7 will process at POS. Claim denies with NCPDP 22.\\n\\nDAW 0,1,2,5,8 and 9 will process at POS. Claim does not reject with NCPDP 22 and processes with the following:\\n\\n- Brand Reimbursement (Lesser of Logic applies)\\n- The copay is based on the Tier regardless of the DAW submitted.\\n\\n# Multi-Source Brand Drugs\\n\\nGeneric available MONY code \"Y\".\\n\\nMONY \"MIN\" should always process as a brand, \"0\" should process as a generic, \"0\" should process as \\'Multi Source Brand Drugs\\'.\\n\\n# Brand Dispense Fee\\n\\nDAW 3,4,6,7 will process at POS. Claim denies with NCPDP 22.\\n\\nDAW 0,1,2,5,8,9: Claim does not reject with NCPDP 22 and processes with the following:\\n\\n- Brand Reimbursement (Lesser of Logic applies)\\n- Copay (DAW Copay Rule C - Patient Pays Copay)', mimetype='text/plain', start_char_idx=None, end_char_idx=None, metadata_seperator='\\n', text_template='{metadata_str}\\n\\n{content}')]\n"
     ]
    }
   ],
   "source": [
    "for file_name in file_list:\n",
    "    file_path = os.path.join(file_directory, file_name)\n",
    "    \n",
    "    with open(file_path, \"rb\") as file:\n",
    "        documents = parser.load_data(file, extra_info={\"file_name\": file_name})\n",
    "    if documents:\n",
    "        print(f\"Markdown for {file_name}:\")\n",
    "        print(documents)  \n",
    "    else:\n",
    "        print(f\"No data parsed for {file_name}\")\n"
   ]
  },
  {
   "cell_type": "code",
   "execution_count": 7,
   "metadata": {},
   "outputs": [
    {
     "data": {
      "text/plain": [
       "'# Part C\\n\\n# Part C OTC\\n\\n|Monthly Frequency|Part C OTC Comments|\\n|---|---|\\n|OTC Not Administered by Navitus|Geisinger Administered OTC Benefit Part D|\\n|Plan Type|Defined Standard Benefit Plan|\\n|Formulary ID:|00024417|\\n|Formulary|Lower Level Exception Tier|\\n|NIA|Formulary NIA|\\n|One Month Supply Limit|30|\\n|LTC One Month Supply Limit|31|\\n|OON Day Supply|30|\\n|Mail Order Day Supply|100|\\n|Over-The-Counter (OTC) Items as a supplemental benefit under Part D|No|\\n|DMR Methodology|Contracted OOP Threshold|\\n\\n# Part D\\n\\n|Insulin|1-30 Day|31-60 Day|61-100 Day|1-30 Day|31-60 Day|61-100 Day|30 Day|31 Day|\\n|---|---|---|---|---|---|---|---|---|\\n|Copays|$35.00|$70.00|$87.50|$35.00|$52.50|$52.50|$35.00|$35.00|\\n\\n# DAW Processing Requirements\\n\\nStandard DAW 0,1,2,5,8 and 9 will process at POS.\\n\\nDAW 3,4,6 and 7 will reject at POS with error 22 (WI DA product selection code).\\n\\nClaim does not reject with NCPDP 22 and processes with the following:\\n\\n- Generic Reimbursement (Lesser of Logic applies)\\n- Copay (DAW Copay Rule C - Patient Pays Copay)\\n\\nThe copay is based on the Tier regardless of the DAW submitted.\\n\\n# Generic Available\\n\\nGeneric available MONY code \"Y\".\\n\\nMONY \"MN\" should always process as a brand, \"0\" should process as \"Multi Source Brand Drugs\".\\n\\n# Generic Dispense Fee\\n\\nDAW 3,4,6,7 will process at POS. Claim denies with NCPDP 22.\\n\\nDAW 0,1,2,5,8 and 9 will process at POS. Claim does not reject with NCPDP 22 and processes with the following:\\n\\n- Brand Reimbursement (Lesser of Logic applies)\\n- The copay is based on the Tier regardless of the DAW submitted.\\n\\n# Multi-Source Brand Drugs\\n\\nGeneric available MONY code \"Y\".\\n\\nMONY \"MIN\" should always process as a brand, \"0\" should process as a generic, \"0\" should process as \\'Multi Source Brand Drugs\\'.\\n\\n# Brand Dispense Fee\\n\\nDAW 3,4,6,7 will process at POS. Claim denies with NCPDP 22.\\n\\nDAW 0,1,2,5,8,9: Claim does not reject with NCPDP 22 and processes with the following:\\n\\n- Brand Reimbursement (Lesser of Logic applies)\\n- Copay (DAW Copay Rule C - Patient Pays Copay)'"
      ]
     },
     "execution_count": 7,
     "metadata": {},
     "output_type": "execute_result"
    }
   ],
   "source": [
    "markdown_data = documents[0].text\n",
    "markdown_data"
   ]
  },
  {
   "cell_type": "code",
   "execution_count": null,
   "metadata": {},
   "outputs": [
    {
     "name": "stdout",
     "output_type": "stream",
     "text": [
      "\n",
      "Table 1:\n",
      "                                    Monthly Frequency  \\\n",
      "0                     OTC Not Administered by Navitus   \n",
      "1                                           Plan Type   \n",
      "2                                       Formulary ID:   \n",
      "3                                           Formulary   \n",
      "4                                                 NIA   \n",
      "5                              One Month Supply Limit   \n",
      "6                          LTC One Month Supply Limit   \n",
      "7                                      OON Day Supply   \n",
      "8                               Mail Order Day Supply   \n",
      "9   Over-The-Counter (OTC) Items as a supplemental...   \n",
      "10                                    DMR Methodology   \n",
      "\n",
      "                          Part C OTC Comments  \n",
      "0   Geisinger Administered OTC Benefit Part D  \n",
      "1               Defined Standard Benefit Plan  \n",
      "2                                    00024417  \n",
      "3                  Lower Level Exception Tier  \n",
      "4                               Formulary NIA  \n",
      "5                                          30  \n",
      "6                                          31  \n",
      "7                                          30  \n",
      "8                                         100  \n",
      "9                                          No  \n",
      "10                   Contracted OOP Threshold  \n",
      "\n",
      "Table 2:\n",
      "  Insulin 1-30 Day 31-60 Day 61-100 Day 1-30 Day 31-60 Day 61-100 Day  30 Day  \\\n",
      "0  Copays   $35.00    $70.00     $87.50   $35.00    $52.50     $52.50  $35.00   \n",
      "\n",
      "   31 Day  \n",
      "0  $35.00  \n"
     ]
    }
   ],
   "source": [
    "import pandas as pd\n",
    "import re\n",
    "\n",
    "# Input text\n",
    "\n",
    "# Regular expression to identify markdown tables\n",
    "table_pattern = re.compile(r'(\\|.+\\|\\n\\|[-| ]+\\|(?:\\n\\|.*\\|)+)')\n",
    "\n",
    "# Find all tables in the text\n",
    "tables = table_pattern.findall(markdown_data)\n",
    "\n",
    "dataframes = []\n",
    "\n",
    "# Parse each table dynamically\n",
    "for table in tables:\n",
    "    rows = table.strip().split('\\n')\n",
    "    headers = [header.strip() for header in rows[0].split('|') if header.strip()]\n",
    "    data = [\n",
    "        [cell.strip() for cell in row.split('|') if cell.strip()]\n",
    "        for row in rows[2:]  # Skip the headers and separator rows\n",
    "    ]\n",
    "    df = pd.DataFrame(data, columns=headers)\n",
    "    dataframes.append(df)\n",
    "\n",
    "# Example: Display all dataframes\n",
    "for i, df in enumerate(dataframes):\n",
    "    print(f\"\\nTable {i+1}:\")\n",
    "    print(df)\n",
    "\n",
    "\n",
    "# To work with each dataframe, use the `dataframes` list, e.g., `dataframes[0]` for the first table.\n"
   ]
  }
 ],
 "metadata": {
  "kernelspec": {
   "display_name": ".venv",
   "language": "python",
   "name": "python3"
  },
  "language_info": {
   "codemirror_mode": {
    "name": "ipython",
    "version": 3
   },
   "file_extension": ".py",
   "mimetype": "text/x-python",
   "name": "python",
   "nbconvert_exporter": "python",
   "pygments_lexer": "ipython3",
   "version": "3.12.7"
  }
 },
 "nbformat": 4,
 "nbformat_minor": 2
}
