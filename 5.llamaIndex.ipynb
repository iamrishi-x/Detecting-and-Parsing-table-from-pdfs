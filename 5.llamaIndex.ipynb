{
 "cells": [
  {
   "cell_type": "code",
   "execution_count": 2,
   "metadata": {},
   "outputs": [],
   "source": [
    "import nest_asyncio\n",
    "from llama_index.core import SimpleDirectoryReader\n",
    "from llama_parse import LlamaParse\n",
    "import os\n",
    "nest_asyncio.apply()"
   ]
  },
  {
   "cell_type": "code",
   "execution_count": null,
   "metadata": {},
   "outputs": [],
   "source": [
    "parser = LlamaParse(\n",
    "    api_key=\"YOUR_API_KEY\",  # Replace with your LlamaParse API key\n",
    "    result_type=\"markdown\",  # We want markdown output\n",
    "    num_workers=4,  # Number of workers for parallel processing of multiple files\n",
    "    verbose=True,  # Enables logging of detailed information\n",
    "    language=\"en\",  # Language of the document (optional)\n",
    ")"
   ]
  },
  {
   "cell_type": "code",
   "execution_count": 4,
   "metadata": {},
   "outputs": [
    {
     "data": {
      "text/plain": [
       "['SCR-20241204-onku.png']"
      ]
     },
     "execution_count": 4,
     "metadata": {},
     "output_type": "execute_result"
    }
   ],
   "source": [
    "file_directory = \"/Users/user/Documents/Project/___e-zest___/Dashboard_division/img_data\"\n",
    "file_list = [[f for f in os.listdir(file_directory) if f.lower().endswith(('.pdf', '.png', '.jpg', '.jpeg'))][0]]\n",
    "file_list\n"
   ]
  },
  {
   "cell_type": "code",
   "execution_count": 5,
   "metadata": {},
   "outputs": [
    {
     "name": "stdout",
     "output_type": "stream",
     "text": [
      "Started parsing the file under job_id b7cd653e-b22b-40f9-9675-7005645f6bb1\n",
      "Markdown for SCR-20241204-onku.png:\n",
      "[Document(id_='d6c18394-e751-4add-9796-671c4b292156', embedding=None, metadata={'file_name': 'SCR-20241204-onku.png'}, excluded_embed_metadata_keys=[], excluded_llm_metadata_keys=[], relationships={}, metadata_template='{key}: {value}', metadata_separator='\\n', text='|SI No.|Cause|2020 (Total)|Male|Female|Trans - gender|2021 Total|Percentage Share|% Var. of Suicides during 2021| | | |\\n|---|---|---|---|---|---|---|---|---|---|---|---|\\n| |1|Bankruptcy or Indebtedness|5213|5879|482|6361|22.0|3.9| | | |\\n|2|Marriage Related Issues (Total)|7636|3833|4069|7903|3.5|4.8| | | | |\\n|2.1|Non Settlement of Marriage|2237|1616|1031|2647|18.3|1.6| | | | |\\n|2.2|Dowry Related Issues|2018|220|1503|1724|-14.6|1.1| | | | |\\n|2.3|Extra Marital Affairs|1360|855|593|1448|6.5|0.9| | | | |\\n|2.4|Divorce|551|349|217|566|2.7|0.3| | | | |\\n|2.5|Others|1470|793|725|1518|3.3|0.9| | | | |\\n| | | | |3|Failure in Examination|2080|991|682|1673|19.6|1.0|\\n| | | | |4|Impotency/Infertility|290|185|222|407|40.3|0.2|\\n| |5|Family Problems|51477|38634|15769|54410|5.7|33.| | | |\\n| |6|Illness (Total)|27623|21014|9426|30446|10.2|18.6| | | |\\n|6.1|AIDS/STD|187|98|26|125|33.2| | | | | |\\n|6.2|Cancer|1260|909|337|1246|-0.1|0.8| | | | |\\n|6.3|Paralysis|880|927|272|1199|36.3| | | | | |\\n|6.4|Insanity/Mental Illness|13796|9713|4077|13792|0.0|8.4| | | | |\\n|6.5|Other Prolonged Illness|11500|9367|4714|14084|22.5|8.6| | | | |\\n|7|Death of Dear Person|1452|1281|644|1925|32.6|1.2| | | | |\\n| | |8|Drug Abuse/Alcoholic Addiction|9169|10284|275|10560|15.2| | | |', mimetype='text/plain', start_char_idx=None, end_char_idx=None, metadata_seperator='\\n', text_template='{metadata_str}\\n\\n{content}')]\n"
     ]
    }
   ],
   "source": [
    "for file_name in file_list:\n",
    "    file_path = os.path.join(file_directory, file_name)\n",
    "    \n",
    "    with open(file_path, \"rb\") as file:\n",
    "        documents = parser.load_data(file, extra_info={\"file_name\": file_name})\n",
    "    if documents:\n",
    "        print(f\"Markdown for {file_name}:\")\n",
    "        print(documents)  \n",
    "    else:\n",
    "        print(f\"No data parsed for {file_name}\")\n"
   ]
  },
  {
   "cell_type": "code",
   "execution_count": 6,
   "metadata": {},
   "outputs": [
    {
     "data": {
      "text/plain": [
       "'|SI No.|Cause|2020 (Total)|Male|Female|Trans - gender|2021 Total|Percentage Share|% Var. of Suicides during 2021| | | |\\n|---|---|---|---|---|---|---|---|---|---|---|---|\\n| |1|Bankruptcy or Indebtedness|5213|5879|482|6361|22.0|3.9| | | |\\n|2|Marriage Related Issues (Total)|7636|3833|4069|7903|3.5|4.8| | | | |\\n|2.1|Non Settlement of Marriage|2237|1616|1031|2647|18.3|1.6| | | | |\\n|2.2|Dowry Related Issues|2018|220|1503|1724|-14.6|1.1| | | | |\\n|2.3|Extra Marital Affairs|1360|855|593|1448|6.5|0.9| | | | |\\n|2.4|Divorce|551|349|217|566|2.7|0.3| | | | |\\n|2.5|Others|1470|793|725|1518|3.3|0.9| | | | |\\n| | | | |3|Failure in Examination|2080|991|682|1673|19.6|1.0|\\n| | | | |4|Impotency/Infertility|290|185|222|407|40.3|0.2|\\n| |5|Family Problems|51477|38634|15769|54410|5.7|33.| | | |\\n| |6|Illness (Total)|27623|21014|9426|30446|10.2|18.6| | | |\\n|6.1|AIDS/STD|187|98|26|125|33.2| | | | | |\\n|6.2|Cancer|1260|909|337|1246|-0.1|0.8| | | | |\\n|6.3|Paralysis|880|927|272|1199|36.3| | | | | |\\n|6.4|Insanity/Mental Illness|13796|9713|4077|13792|0.0|8.4| | | | |\\n|6.5|Other Prolonged Illness|11500|9367|4714|14084|22.5|8.6| | | | |\\n|7|Death of Dear Person|1452|1281|644|1925|32.6|1.2| | | | |\\n| | |8|Drug Abuse/Alcoholic Addiction|9169|10284|275|10560|15.2| | | |'"
      ]
     },
     "execution_count": 6,
     "metadata": {},
     "output_type": "execute_result"
    }
   ],
   "source": [
    "markdown_data = documents[0].text\n",
    "markdown_data"
   ]
  },
  {
   "cell_type": "code",
   "execution_count": 7,
   "metadata": {},
   "outputs": [
    {
     "name": "stdout",
     "output_type": "stream",
     "text": [
      "   SI No.                            Cause                2020 (Total)  \\\n",
      "0     ---                              ---                         ---   \n",
      "1                                        1  Bankruptcy or Indebtedness   \n",
      "2       2  Marriage Related Issues (Total)                        7636   \n",
      "3     2.1       Non Settlement of Marriage                        2237   \n",
      "4     2.2             Dowry Related Issues                        2018   \n",
      "5     2.3            Extra Marital Affairs                        1360   \n",
      "6     2.4                          Divorce                         551   \n",
      "7     2.5                           Others                        1470   \n",
      "8                                                                        \n",
      "9                                                                        \n",
      "10                                       5             Family Problems   \n",
      "11                                       6             Illness (Total)   \n",
      "12    6.1                         AIDS/STD                         187   \n",
      "13    6.2                           Cancer                        1260   \n",
      "14    6.3                        Paralysis                         880   \n",
      "15    6.4          Insanity/Mental Illness                       13796   \n",
      "16    6.5          Other Prolonged Illness                       11500   \n",
      "17      7             Death of Dear Person                        1452   \n",
      "18                                                                   8   \n",
      "\n",
      "                              Male Female          Trans - gender 2021 Total  \\\n",
      "0                              ---    ---                     ---        ---   \n",
      "1                             5213   5879                     482       6361   \n",
      "2                             3833   4069                    7903        3.5   \n",
      "3                             1616   1031                    2647       18.3   \n",
      "4                              220   1503                    1724      -14.6   \n",
      "5                              855    593                    1448        6.5   \n",
      "6                              349    217                     566        2.7   \n",
      "7                              793    725                    1518        3.3   \n",
      "8                                       3  Failure in Examination       2080   \n",
      "9                                       4   Impotency/Infertility        290   \n",
      "10                           51477  38634                   15769      54410   \n",
      "11                           27623  21014                    9426      30446   \n",
      "12                              98     26                     125       33.2   \n",
      "13                             909    337                    1246       -0.1   \n",
      "14                             927    272                    1199       36.3   \n",
      "15                            9713   4077                   13792        0.0   \n",
      "16                            9367   4714                   14084       22.5   \n",
      "17                            1281    644                    1925       32.6   \n",
      "18  Drug Abuse/Alcoholic Addiction   9169                   10284        275   \n",
      "\n",
      "   Percentage Share % Var. of Suicides during 2021          .1   .2  \n",
      "0               ---                            ---   ---   ---  ---  \n",
      "1              22.0                            3.9                   \n",
      "2               4.8                                                  \n",
      "3               1.6                                                  \n",
      "4               1.1                                                  \n",
      "5               0.9                                                  \n",
      "6               0.3                                                  \n",
      "7               0.9                                                  \n",
      "8               991                            682  1673  19.6  1.0  \n",
      "9               185                            222   407  40.3  0.2  \n",
      "10              5.7                            33.                   \n",
      "11             10.2                           18.6                   \n",
      "12                                                                   \n",
      "13              0.8                                                  \n",
      "14                                                                   \n",
      "15              8.4                                                  \n",
      "16              8.6                                                  \n",
      "17              1.2                                                  \n",
      "18            10560                           15.2                   \n"
     ]
    }
   ],
   "source": [
    "import pandas as pd\n",
    "import io\n",
    "df = pd.read_csv(io.StringIO(markdown_data), delimiter=\"|\")\n",
    "df = df.iloc[:, 1:-1]\n",
    "print(df)"
   ]
  }
 ],
 "metadata": {
  "kernelspec": {
   "display_name": ".venv",
   "language": "python",
   "name": "python3"
  },
  "language_info": {
   "codemirror_mode": {
    "name": "ipython",
    "version": 3
   },
   "file_extension": ".py",
   "mimetype": "text/x-python",
   "name": "python",
   "nbconvert_exporter": "python",
   "pygments_lexer": "ipython3",
   "version": "3.12.7"
  }
 },
 "nbformat": 4,
 "nbformat_minor": 2
}
