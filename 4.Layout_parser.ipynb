{
 "cells": [
  {
   "cell_type": "markdown",
   "metadata": {},
   "source": [
    "Link for reference - \n",
    "    1. https://layout-parser.readthedocs.io/en/latest/example/parse_ocr/\n",
    "    2. https://medium.com/ireadrx/table-detection-using-layout-parser-eaeb20fdba33"
   ]
  },
  {
   "cell_type": "code",
   "execution_count": null,
   "metadata": {
    "vscode": {
     "languageId": "plaintext"
    }
   },
   "outputs": [],
   "source": []
  }
 ],
 "metadata": {
  "language_info": {
   "name": "python"
  }
 },
 "nbformat": 4,
 "nbformat_minor": 2
}
