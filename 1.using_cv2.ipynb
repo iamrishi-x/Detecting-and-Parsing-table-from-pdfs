{
 "cells": [
  {
   "cell_type": "code",
   "execution_count": null,
   "metadata": {
    "vscode": {
     "languageId": "plaintext"
    }
   },
   "outputs": [],
   "source": [
    "import numpy as np\n",
    "import imutils\n",
    "import glob\n",
    "import cv2\n",
    "\n",
    "template = cv2.imread(\"apA8L.png\")\n",
    "template = cv2.cvtColor(template, cv2.COLOR_BGR2GRAY)\n",
    "template = cv2.Canny(template, 50, 200)\n",
    "(h, w) = template.shape[:2]\n",
    "\n",
    "for imagePath in glob.glob(\"img2\" + \"/*.jpg\"):\n",
    "    image = cv2.imread(imagePath)\n",
    "    gray = cv2.cvtColor(image, cv2.COLOR_BGR2GRAY)\n",
    "    found = None\n",
    "\n",
    "    for scale in np.linspace(0.2, 1.0, 20)[::-1]:\n",
    "        resized = imutils.resize(gray, width=int(gray.shape[1] * scale))\n",
    "        r = gray.shape[1] / float(resized.shape[1])\n",
    "\n",
    "        if resized.shape[0] < h or resized.shape[1] < w:\n",
    "            break\n",
    "\n",
    "        edged = cv2.Canny(resized, 50, 200)\n",
    "        result = cv2.matchTemplate(edged, template, cv2.TM_CCOEFF)\n",
    "        (_, maxVal, _, maxLoc) = cv2.minMaxLoc(result)\n",
    "\n",
    "        if found is None or maxVal > found[0]:\n",
    "            found = (maxVal, maxLoc, r)\n",
    "\n",
    "    (_, maxLoc, r) = found\n",
    "    (startX, startY) = (int(maxLoc[0] * r), int(maxLoc[1] * r))\n",
    "    (endX, endY) = (int((maxLoc[0] + w) * r), int((maxLoc[1] + h) * r))\n",
    "\n",
    "    cv2.rectangle(image, (startX, startY), (endX, endY), (0, 0, 255), 2)\n",
    "    cv2.imwrite(\"out.png\", image)\n",
    "    print(\"Table coordinates: ({}, {}, {}, {})\".format(startX, startY, endX, endY))\n"
   ]
  }
 ],
 "metadata": {
  "language_info": {
   "name": "python"
  }
 },
 "nbformat": 4,
 "nbformat_minor": 2
}
