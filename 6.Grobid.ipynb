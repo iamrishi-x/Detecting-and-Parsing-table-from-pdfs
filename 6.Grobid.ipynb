{
 "cells": [
  {
   "cell_type": "markdown",
   "metadata": {},
   "source": [
    "Link For reference - \n",
    "    https://python.langchain.com/docs/integrations/document_loaders/grobid/"
   ]
  },
  {
   "cell_type": "markdown",
   "metadata": {},
   "source": []
  }
 ],
 "metadata": {
  "language_info": {
   "name": "python"
  }
 },
 "nbformat": 4,
 "nbformat_minor": 2
}
